{
 "cells": [
  {
   "cell_type": "code",
   "execution_count": 2,
   "metadata": {},
   "outputs": [],
   "source": [
    "import numpy as np\n",
    "import pandas as pd"
   ]
  },
  {
   "cell_type": "code",
   "execution_count": 4,
   "metadata": {},
   "outputs": [],
   "source": [
    "forest_fire=pd.read_csv(\"forestfires.csv\")"
   ]
  },
  {
   "cell_type": "code",
   "execution_count": 6,
   "metadata": {},
   "outputs": [],
   "source": [
    "from sklearn import preprocessing\n",
    "label_encoder=preprocessing.LabelEncoder()\n",
    "forest_fire['month']=label_encoder.fit_transform(forest_fire['month'])\n",
    "forest_fire['day']=label_encoder.fit_transform(forest_fire['day'])"
   ]
  },
  {
   "cell_type": "code",
   "execution_count": 8,
   "metadata": {},
   "outputs": [],
   "source": [
    "from sklearn.model_selection import train_test_split\n",
    "train,test=train_test_split(forest_fire,test_size=0.3,random_state=0)\n",
    "columns=list(forest_fire.columns)\n",
    "predictors=columns[0:30]\n",
    "target=columns[30]"
   ]
  },
  {
   "cell_type": "code",
   "execution_count": 10,
   "metadata": {},
   "outputs": [],
   "source": [
    "from sklearn.svm import SVC"
   ]
  },
  {
   "cell_type": "code",
   "execution_count": 12,
   "metadata": {},
   "outputs": [
    {
     "data": {
      "text/plain": [
       "0.967948717948718"
      ]
     },
     "execution_count": 12,
     "metadata": {},
     "output_type": "execute_result"
    }
   ],
   "source": [
    "model_linear=SVC(kernel='linear')\n",
    "model_linear.fit(train[predictors],train[target])\n",
    "train_pred_linear=model_linear.predict(train[predictors])\n",
    "test_pred_linear=model_linear.predict(test[predictors])\n",
    "train_lin_acc=np.mean(train_pred_linear==train[target])\n",
    "test_lin_acc=np.mean(test_pred_linear==test[target])\n",
    "train_lin_acc#1.0\n",
    "test_lin_acc#0.96\n"
   ]
  },
  {
   "cell_type": "code",
   "execution_count": 14,
   "metadata": {},
   "outputs": [
    {
     "data": {
      "text/plain": [
       "0.7564102564102564"
      ]
     },
     "execution_count": 14,
     "metadata": {},
     "output_type": "execute_result"
    }
   ],
   "source": [
    "model_poly=SVC(kernel='poly')\n",
    "model_poly.fit(train[predictors],train[target])\n",
    "train_pred_poly=model_poly.predict(train[predictors])\n",
    "test_pred_poly=model_poly.predict(test[predictors])\n",
    "train_poly_acc=np.mean(train_pred_poly==train[target])\n",
    "test_poly_acc=np.mean(test_pred_poly==test[target])\n",
    "train_poly_acc#0.76\n",
    "test_poly_acc#0.75"
   ]
  },
  {
   "cell_type": "code",
   "execution_count": 15,
   "metadata": {},
   "outputs": [
    {
     "data": {
      "text/plain": [
       "0.7243589743589743"
      ]
     },
     "execution_count": 15,
     "metadata": {},
     "output_type": "execute_result"
    }
   ],
   "source": [
    "model_rbf=SVC(kernel='rbf')\n",
    "model_rbf.fit(train[predictors],train[target])\n",
    "train_pred_rbf=model_rbf.predict(train[predictors])\n",
    "test_pred_rbf=model_rbf.predict(test[predictors])\n",
    "train_rbf_acc=np.mean(train_pred_rbf==train[target])\n",
    "test_rbf_acc=np.mean(test_pred_rbf==test[target])\n",
    "train_rbf_acc#0.76\n",
    "test_rbf_acc#0.72"
   ]
  }
 ],
 "metadata": {
  "kernelspec": {
   "display_name": "Python 3",
   "language": "python",
   "name": "python3"
  },
  "language_info": {
   "codemirror_mode": {
    "name": "ipython",
    "version": 3
   },
   "file_extension": ".py",
   "mimetype": "text/x-python",
   "name": "python",
   "nbconvert_exporter": "python",
   "pygments_lexer": "ipython3",
   "version": "3.8.5"
  }
 },
 "nbformat": 4,
 "nbformat_minor": 4
}
